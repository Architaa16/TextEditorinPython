{
 "cells": [
  {
   "cell_type": "markdown",
   "id": "6d1e04a7-a559-420b-993e-f2b384563314",
   "metadata": {},
   "source": [
    "##Text Editor in Python\n",
    "##Project ID - #CC9887"
   ]
  },
  {
   "cell_type": "code",
   "execution_count": 12,
   "id": "e75b3d70-4ba9-47e6-8e92-88447bbbb7a3",
   "metadata": {},
   "outputs": [],
   "source": [
    "from ipywidgets import Textarea, VBox, HBox, Button, Label, FileUpload, Layout\n",
    "from IPython.display import display, clear_output\n"
   ]
  },
  {
   "cell_type": "code",
   "execution_count": 13,
   "id": "548d5e50-d4e8-495b-b549-3608fe06a796",
   "metadata": {},
   "outputs": [],
   "source": [
    "def new_file(_):\n",
    "    text_area.value = ''\n",
    "\n",
    "def open_file(change):\n",
    "    for filename in change['new'].keys():\n",
    "        with open(filename, 'r') as file:\n",
    "            text_area.value = file.read()\n",
    "\n",
    "def save_file(_):\n",
    "    filename = list(file_upload.value.keys())[0]\n",
    "    with open(filename, 'w') as file:\n",
    "        file.write(text_area.value)\n"
   ]
  },
  {
   "cell_type": "code",
   "execution_count": 14,
   "id": "719a0c39-f411-4de7-956c-01d6134a1a76",
   "metadata": {},
   "outputs": [],
   "source": [
    "text_area = Textarea(layout=Layout(width='50%', height='100px'))\n",
    "file_upload = FileUpload(accept='.txt', multiple=False)\n",
    "new_button = Button(description='New', button_style='info', icon='file-alt')\n",
    "open_button = Button(description='Open', button_style='info', icon='folder-open')\n",
    "save_button = Button(description='Save', button_style='success', icon='save')"
   ]
  },
  {
   "cell_type": "code",
   "execution_count": 15,
   "id": "5c7e4d95-c789-4ba2-bcb3-9fdb08aebb8f",
   "metadata": {},
   "outputs": [],
   "source": [
    "new_button.on_click(new_file)\n",
    "open_button.observe(open_file, names='value')\n",
    "save_button.on_click(save_file)\n"
   ]
  },
  {
   "cell_type": "code",
   "execution_count": 16,
   "id": "caa401e5-ba5e-4d88-b317-593a0b4ac382",
   "metadata": {},
   "outputs": [
    {
     "data": {
      "application/vnd.jupyter.widget-view+json": {
       "model_id": "15966ddc31794c8dbc633f67ccd7f2c9",
       "version_major": 2,
       "version_minor": 0
      },
      "text/plain": [
       "VBox(children=(HBox(children=(Button(button_style='info', description='New', icon='file-alt', style=ButtonStyl…"
      ]
     },
     "metadata": {},
     "output_type": "display_data"
    }
   ],
   "source": [
    "controls = HBox([new_button, open_button, save_button])\n",
    "display(VBox([controls, file_upload, text_area]))\n"
   ]
  },
  {
   "cell_type": "code",
   "execution_count": 17,
   "id": "1cc9b6f3-aa73-454f-a324-e4c7bc4fca43",
   "metadata": {},
   "outputs": [],
   "source": [
    "word_count_label = Label(value='Word Count: 0')\n"
   ]
  },
  {
   "cell_type": "code",
   "execution_count": 18,
   "id": "d12063a7-b1b5-4e09-85de-5030c2cb9306",
   "metadata": {},
   "outputs": [],
   "source": [
    "def update_word_count(_):\n",
    "    word_count = len(text_area.value.split())\n",
    "    word_count_label.value = f'Word Count: {word_count}'\n",
    "\n",
    "text_area.observe(update_word_count, names='value')\n"
   ]
  },
  {
   "cell_type": "code",
   "execution_count": 19,
   "id": "5e070ddf-b9c6-4275-b600-162c29c81e70",
   "metadata": {},
   "outputs": [],
   "source": [
    "bold_button = Button(description='Bold', button_style='info', icon='bold')\n",
    "italic_button = Button(description='Italic', button_style='info', icon='italic')\n",
    "underline_button = Button(description='Underline', button_style='info', icon='underline')\n"
   ]
  },
  {
   "cell_type": "code",
   "execution_count": 20,
   "id": "f6d44d71-b1a5-4756-bc92-e68ea08dc472",
   "metadata": {},
   "outputs": [],
   "source": [
    "def toggle_bold(_):\n",
    "    if 'bold' in text_area.style.keys():\n",
    "        text_area.remove_class('bold')\n",
    "    else:\n",
    "        text_area.add_class('bold')\n",
    "\n",
    "def toggle_italic(_):\n",
    "    if 'italic' in text_area.style.keys():\n",
    "        text_area.remove_class('italic')\n",
    "    else:\n",
    "        text_area.add_class('italic')\n",
    "\n",
    "def toggle_underline(_):\n",
    "    if 'underline' in text_area.style.keys():\n",
    "        text_area.remove_class('underline')\n",
    "    else:\n",
    "        text_area.add_class('underline')\n",
    "\n",
    "bold_button.on_click(toggle_bold)\n",
    "italic_button.on_click(toggle_italic)\n",
    "underline_button.on_click(toggle_underline)"
   ]
  },
  {
   "cell_type": "code",
   "execution_count": 11,
   "id": "dd891b5f-7832-4528-b095-4605c7d08e04",
   "metadata": {},
   "outputs": [
    {
     "data": {
      "application/vnd.jupyter.widget-view+json": {
       "model_id": "1e4beffdf9ec4efdbeacb458d8ef1608",
       "version_major": 2,
       "version_minor": 0
      },
      "text/plain": [
       "VBox(children=(HBox(children=(Button(button_style='info', description='New', icon='file-alt', style=ButtonStyl…"
      ]
     },
     "metadata": {},
     "output_type": "display_data"
    }
   ],
   "source": [
    "formatting_controls = HBox([bold_button, italic_button, underline_button])\n",
    "display(VBox([controls, file_upload, text_area, word_count_label, formatting_controls]))"
   ]
  },
  {
   "cell_type": "code",
   "execution_count": null,
   "id": "450bd624-c6e9-48b1-8ed0-772e61c4afc5",
   "metadata": {},
   "outputs": [],
   "source": []
  }
 ],
 "metadata": {
  "kernelspec": {
   "display_name": "Python 3 (ipykernel)",
   "language": "python",
   "name": "python3"
  },
  "language_info": {
   "codemirror_mode": {
    "name": "ipython",
    "version": 3
   },
   "file_extension": ".py",
   "mimetype": "text/x-python",
   "name": "python",
   "nbconvert_exporter": "python",
   "pygments_lexer": "ipython3",
   "version": "3.11.5"
  }
 },
 "nbformat": 4,
 "nbformat_minor": 5
}
